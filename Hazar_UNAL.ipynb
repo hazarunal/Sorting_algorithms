{
 "cells": [
  {
   "cell_type": "code",
   "execution_count": 2,
   "metadata": {},
   "outputs": [],
   "source": [
    "import random"
   ]
  },
  {
   "cell_type": "markdown",
   "metadata": {},
   "source": [
    "BUBBLE SORT"
   ]
  },
  {
   "cell_type": "code",
   "execution_count": 3,
   "metadata": {},
   "outputs": [],
   "source": [
    "def bubbleSort(arr):\n",
    "    n = len(arr)\n",
    "    for i in range(n-1):\n",
    "        for j in range(0,n-1-i):\n",
    "            if arr[j] > arr[j+1]:    \n",
    "                arr[j],arr[j+1] = arr[j+1], arr[j]        \n",
    "    return arr"
   ]
  },
  {
   "cell_type": "markdown",
   "metadata": {},
   "source": [
    "SELECTION SORT"
   ]
  },
  {
   "cell_type": "code",
   "execution_count": 4,
   "metadata": {},
   "outputs": [],
   "source": [
    "def selectionSort(arr):\n",
    "    n=len(arr)\n",
    "    \n",
    "    for i in range(n):\n",
    "        min = i\n",
    "        for j in range(i+1,n):\n",
    "            if arr[j] < arr[min] : \n",
    "                min = j\n",
    "        arr[i],arr[min] = arr[min],arr[i]\n",
    "    return arr"
   ]
  },
  {
   "cell_type": "markdown",
   "metadata": {},
   "source": [
    "INSERTION SORT"
   ]
  },
  {
   "cell_type": "code",
   "execution_count": 5,
   "metadata": {},
   "outputs": [],
   "source": [
    "def insertionSort(arr):\n",
    "    n = len(arr)\n",
    "    for i in range(1,n):\n",
    "        x = arr[i]\n",
    "        j = i -1\n",
    "        while j >= 0 and x < arr[j]:\n",
    "            arr[j+1] = arr[j]\n",
    "            j = j-1\n",
    "        arr[j+1] = x\n",
    "    return arr"
   ]
  },
  {
   "cell_type": "markdown",
   "metadata": {},
   "source": [
    "QUICK SORT"
   ]
  },
  {
   "cell_type": "code",
   "execution_count": 6,
   "metadata": {},
   "outputs": [],
   "source": [
    "def quickSort(arr):\n",
    "    if len(arr) > 1:\n",
    "        pivot = arr[0]\n",
    "        left = [x for x in arr[1:] if x < pivot]\n",
    "        right = [x for x in arr[1:] if x >= pivot]\n",
    "        return quickSort(left) + [pivot] + quickSort(right)\n",
    "    else:\n",
    "        return arr"
   ]
  },
  {
   "cell_type": "markdown",
   "metadata": {},
   "source": [
    "HEAP SORT"
   ]
  },
  {
   "cell_type": "code",
   "execution_count": 7,
   "metadata": {},
   "outputs": [],
   "source": [
    "def makeHeap(arr, n ,i):\n",
    "    largest = i\n",
    "    l= 2*i +1\n",
    "    r = 2*i + 2\n",
    "    if l < n and arr[i] < arr[l]:\n",
    "        largest = l\n",
    "    if r < n and arr[largest] < arr[r]:\n",
    "        largest = r\n",
    "    if largest != i:\n",
    "        arr[i], arr[largest] = arr[largest] , arr[i]\n",
    "        makeHeap(arr,n,largest)\n",
    "def heapSort(arr):\n",
    "    n=len(arr)\n",
    "    \n",
    "    for i in range(n//2 - 1, -1, -1):\n",
    "        makeHeap(arr,n,i)\n",
    "\n",
    "    for i in range(n-1, 0 ,-1):\n",
    "        arr[i], arr[0] = arr[0], arr[i]\n",
    "        makeHeap(arr, i, 0)\n",
    "    return arr"
   ]
  },
  {
   "cell_type": "markdown",
   "metadata": {},
   "source": [
    "COUNTING SORT"
   ]
  },
  {
   "cell_type": "code",
   "execution_count": 8,
   "metadata": {},
   "outputs": [],
   "source": [
    "def countingSort(arr):\n",
    "    n = len(arr)\n",
    "    output = [0] * n\n",
    "    count = [0] * 256 \n",
    "    for i in range(0,n):\n",
    "        count[arr[i]] +=1\n",
    "    for i in range(1,256):\n",
    "        count[i] += count[i-1]\n",
    "    i = n -1\n",
    "    while i >= 0:\n",
    "        output[count[arr[i]] - 1] = arr[i]\n",
    "        count[arr[i]] -= 1\n",
    "        i -= 1\n",
    "    for i in range(0,n):\n",
    "        arr[i] = output[i]\n",
    "    return arr"
   ]
  },
  {
   "cell_type": "markdown",
   "metadata": {},
   "source": [
    "RADIX SORT"
   ]
  },
  {
   "cell_type": "code",
   "execution_count": 9,
   "metadata": {},
   "outputs": [],
   "source": [
    "def countingSortPlace(arr,place):\n",
    "    n = len(arr)\n",
    "    output= [0]*n\n",
    "    count = [0]*256\n",
    "    for i in range(0,n):\n",
    "        index = arr[i] // place\n",
    "        count[index % 10] +=1\n",
    "    for i in range(1,256):\n",
    "        count[i] += count[i-1]\n",
    "    i = n-1\n",
    "    while i >=0:\n",
    "        index = arr[i] // place\n",
    "        output[count[index % 10] - 1] = arr[i]\n",
    "        count[index % 10] -= 1\n",
    "        i -= 1\n",
    "    for i in range(0,n):\n",
    "        arr[i] = output[i]\n",
    "def radixSort(arr):\n",
    "    maximum = max(arr)\n",
    "    place = 1\n",
    "    while maximum // place > 0:\n",
    "        countingSortPlace(arr,place)\n",
    "        place *= 10\n",
    "    return arr"
   ]
  },
  {
   "cell_type": "markdown",
   "metadata": {},
   "source": [
    "TOPOLOGİCAL SORTİNG\n"
   ]
  },
  {
   "attachments": {
    "grapg.jpg": {
     "image/jpeg": "[encoded data removed]"
    }
   },
   "cell_type": "markdown",
   "metadata": {},
   "source": [
    "![grapg.jpg](attachment:grapg.jpg)"
   ]
  },
  {
   "cell_type": "code",
   "execution_count": 10,
   "metadata": {},
   "outputs": [],
   "source": [
    "def topologicalSort(graph):\n",
    "    v =len(graph)\n",
    "    L = []\n",
    "    S =set()\n",
    "    #Giriş nodelarını buluyorum\n",
    "    for key in graph:\n",
    "        S.add(key)\n",
    "    for key in graph:\n",
    "        for val in graph[key]:\n",
    "            if val in S:\n",
    "                S.remove(val)\n",
    "    #S setine ona gelen nodeların hepsi işlenmiş olan nodeları ekliyorum. S boş ise işimiz bitmiş demektir\n",
    "    while len(S) != 0:\n",
    "        n = S.pop()\n",
    "        L.append(n)\n",
    "        neighbors = graph[n].copy()\n",
    "        for m in neighbors:\n",
    "            graph[n].remove(m)\n",
    "            if not any(m in value for value in graph.values()):\n",
    "                S.add(m)\n",
    "    return L\n"
   ]
  },
  {
   "cell_type": "code",
   "execution_count": 12,
   "metadata": {},
   "outputs": [
    {
     "name": "stdout",
     "output_type": "stream",
     "text": [
      "[45, 85, 28, 37, 9, 41, 25, 50, 52, 52, 96, 95, 40, 45, 50, 69, 36, 32, 47, 59]\n",
      "Bubble Sort [9, 25, 28, 32, 36, 37, 40, 41, 45, 45, 47, 50, 50, 52, 52, 59, 69, 85, 95, 96]\n",
      "Selection Sort [9, 25, 28, 32, 36, 37, 40, 41, 45, 45, 47, 50, 50, 52, 52, 59, 69, 85, 95, 96]\n",
      "Insertion sort [9, 25, 28, 32, 36, 37, 40, 41, 45, 45, 47, 50, 50, 52, 52, 59, 69, 85, 95, 96]\n",
      "Quick Sort [9, 25, 28, 32, 36, 37, 40, 41, 45, 45, 47, 50, 50, 52, 52, 59, 69, 85, 95, 96]\n",
      "Heap Sort [9, 25, 28, 32, 36, 37, 40, 41, 45, 45, 47, 50, 50, 52, 52, 59, 69, 85, 95, 96]\n",
      "Counting Sort [9, 25, 28, 32, 36, 37, 40, 41, 45, 45, 47, 50, 50, 52, 52, 59, 69, 85, 95, 96]\n",
      "Radix Sort [9, 25, 28, 32, 36, 37, 40, 41, 45, 45, 47, 50, 50, 52, 52, 59, 69, 85, 95, 96]\n",
      "{'a': ['b', 'c'], 'b': ['d'], 'c': ['d', 'e'], 'd': ['f'], 'e': ['f'], 'f': []}\n"
     ]
    },
    {
     "data": {
      "text/plain": [
       "['a', 'c', 'b', 'e', 'd', 'f']"
      ]
     },
     "execution_count": 12,
     "metadata": {},
     "output_type": "execute_result"
    }
   ],
   "source": [
    "arr = [random.randint(0,100) for a in range(20)]\n",
    "graph = {\"a\": [\"b\",\"c\"], \"b\": [\"d\"],\"c\": [\"d\",\"e\"],\"d\": [\"f\"], \"e\":[\"f\"],\"f\": []}\n",
    "print(arr)\n",
    "print(\"Bubble Sort {}\".format(bubbleSort(arr)))\n",
    "print(\"Selection Sort {}\".format(selectionSort(arr)))\n",
    "print(\"Insertion sort {}\".format(insertionSort(arr)))\n",
    "print(\"Quick Sort {}\".format(quickSort(arr)))\n",
    "print(\"Heap Sort {}\".format(heapSort(arr)))\n",
    "print(\"Counting Sort {}\".format(countingSort(arr)))\n",
    "print(\"Radix Sort {}\".format(radixSort(arr)))\n",
    "print(graph)\n",
    "topologicalSort(graph)        "
   ]
  }
 ],
 "metadata": {
  "kernelspec": {
   "display_name": "base-data",
   "language": "python",
   "name": "python3"
  },
  "language_info": {
   "codemirror_mode": {
    "name": "ipython",
    "version": 3
   },
   "file_extension": ".py",
   "mimetype": "text/x-python",
   "name": "python",
   "nbconvert_exporter": "python",
   "pygments_lexer": "ipython3",
   "version": "3.10.9"
  },
  "orig_nbformat": 4
 },
 "nbformat": 4,
 "nbformat_minor": 2
}
